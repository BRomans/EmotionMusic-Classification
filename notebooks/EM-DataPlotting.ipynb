version https://git-lfs.github.com/spec/v1
oid sha256:92bc58c01001af8bd7440f03021dbe20932e6781fe6687089ebdf10142472a97
size 2770050
