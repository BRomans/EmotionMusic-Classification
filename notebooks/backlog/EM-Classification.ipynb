version https://git-lfs.github.com/spec/v1
oid sha256:77fdbd23cc0b6a6600860b51b779f33fc6d701fd41f10d634294b583130f8aa4
size 342810
